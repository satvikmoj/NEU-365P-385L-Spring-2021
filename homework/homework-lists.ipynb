{
 "cells": [
  {
   "cell_type": "markdown",
   "metadata": {},
   "source": [
    "# Homework - Lists (15 pts)"
   ]
  },
  {
   "cell_type": "code",
   "execution_count": 12,
   "metadata": {},
   "outputs": [],
   "source": [
    "animals = [\"Orca\", \"Wolf\", \"Gecko\"]"
   ]
  },
  {
   "cell_type": "markdown",
   "metadata": {},
   "source": [
    "1. (3 pts) For the list of animal sabove, change \"Wolf\" to \"Dog\" and append \"Puma\" and \"Jaguar\" to the end of the list. **!!! Modify the original animals variable, DON'T JUST TYPE A NEW LIST.** Then print the modified **animals** list."
   ]
  },
  {
   "cell_type": "code",
   "execution_count": 13,
   "metadata": {},
   "outputs": [
    {
     "data": {
      "text/plain": [
       "['Orca', 'Dog', 'Gecko', 'Puma', 'Jaguar']"
      ]
     },
     "execution_count": 13,
     "metadata": {},
     "output_type": "execute_result"
    }
   ],
   "source": [
    "animals[1] = \"Dog\"\n",
    "animals.extend([\"Puma\", \"Jaguar\"])\n",
    "animals"
   ]
  },
  {
   "cell_type": "markdown",
   "metadata": {},
   "source": [
    "2. (3 pts) Create a new variable **cats** and USE LIST INDEXING to set it to the cats in the **animals** list. Print the **cats** list."
   ]
  },
  {
   "cell_type": "code",
   "execution_count": 23,
   "metadata": {},
   "outputs": [
    {
     "data": {
      "text/plain": [
       "['Puma', 'Jaguar']"
      ]
     },
     "execution_count": 23,
     "metadata": {},
     "output_type": "execute_result"
    }
   ],
   "source": [
    "cats = animals[3:5]\n",
    "cats"
   ]
  },
  {
   "cell_type": "markdown",
   "metadata": {},
   "source": [
    "3. (3 pts) Create two new variables **animalsRef** and **animalsCopy** and set them to a reference and a copy of the **animals** list, respectively. Then change \"Dog\" to \"Wolf\" in **animalsRef** and \"Orca\" to \"Dolphin\" in **animalsCopy**. Thren print the **animals**, **animalsRef** and **animalsCopy** lists."
   ]
  },
  {
   "cell_type": "code",
   "execution_count": 30,
   "metadata": {},
   "outputs": [
    {
     "data": {
      "text/plain": [
       "(['Orca', 'Wolf', 'Gecko', 'Puma', 'Jaguar'],\n",
       " ['Dolphin', 'Wolf', 'Gecko', 'Puma', 'Jaguar'])"
      ]
     },
     "execution_count": 30,
     "metadata": {},
     "output_type": "execute_result"
    }
   ],
   "source": [
    "animalsCopy = animals.copy()\n",
    "animalsRef = animals\n",
    "animalsRef[1] = \"Wolf\"\n",
    "animalsCopy[0] = \"Dolphin\"\n",
    "\n",
    "animalsRef, animalsCopy"
   ]
  },
  {
   "cell_type": "markdown",
   "metadata": {},
   "source": [
    "4. (3 pts) Write a for loop over the **animals** list and print out each animal that is a type of cat."
   ]
  },
  {
   "cell_type": "code",
   "execution_count": 31,
   "metadata": {},
   "outputs": [
    {
     "name": "stdout",
     "output_type": "stream",
     "text": [
      "Puma is a type of Cat\n",
      "Jaguar is a type of Cat\n"
     ]
    }
   ],
   "source": [
    "for x in animals:\n",
    "    if x == \"Puma\" or x == \"Jaguar\":\n",
    "        print(x, \"is a type of Cat\")"
   ]
  },
  {
   "cell_type": "markdown",
   "metadata": {},
   "source": [
    "5. (3 pts) Write an enumerated for loop over the **animals** list and change \"Gecko\" to \"Salamander\" within the loop. Then print the modified **animals** list."
   ]
  },
  {
   "cell_type": "code",
   "execution_count": 32,
   "metadata": {},
   "outputs": [
    {
     "data": {
      "text/plain": [
       "['Orca', 'Wolf', 'Salamander', 'Puma', 'Jaguar']"
      ]
     },
     "execution_count": 32,
     "metadata": {},
     "output_type": "execute_result"
    }
   ],
   "source": [
    "for count, animal in enumerate(animals):\n",
    "    if animal == \"Gecko\":\n",
    "        animals[count] = \"Salamander\"\n",
    "animals"
   ]
  },
  {
   "cell_type": "code",
   "execution_count": null,
   "metadata": {},
   "outputs": [],
   "source": []
  }
 ],
 "metadata": {
  "kernelspec": {
   "display_name": "Python 3",
   "language": "python",
   "name": "python3"
  },
  "language_info": {
   "codemirror_mode": {
    "name": "ipython",
    "version": 3
   },
   "file_extension": ".py",
   "mimetype": "text/x-python",
   "name": "python",
   "nbconvert_exporter": "python",
   "pygments_lexer": "ipython3",
   "version": "3.8.5"
  }
 },
 "nbformat": 4,
 "nbformat_minor": 4
}
