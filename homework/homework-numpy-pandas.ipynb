{
 "cells": [
  {
   "cell_type": "markdown",
   "metadata": {},
   "source": [
    "# Homework - NumPy - Pandas (15 pts)\n",
    "\n",
    "<font color=red>!!! Do NOT use for loops for array manipulations. ONLY use numpy.</font>"
   ]
  },
  {
   "cell_type": "markdown",
   "metadata": {},
   "source": [
    "1. (3 pts) Generate 100 random two-dimensional (x,y) points within a unit square (i.e. x and y randomly chosen between 0 and 1) and assign them to the variable **points**. Make sure to store the points as a matrix where the 1st column is the x values and the 2nd column is the y values (i.e. each row is a point). Next shift and scale each point so that its x and y values fall between 5 and 10. The variable **points** should refer to the shifted and scaled values. Print the first five points to verify."
   ]
  },
  {
   "cell_type": "code",
   "execution_count": 16,
   "metadata": {},
   "outputs": [
    {
     "name": "stdout",
     "output_type": "stream",
     "text": [
      "[5.98532478 7.81092983] [9.53709918 5.82434845] [7.70719894 9.91208419] [7.83917883 6.37585687] [7.75027784 8.34549924]\n"
     ]
    }
   ],
   "source": [
    "import numpy as np\n",
    "array1 = np.random.uniform(low = 5, high = 10, size = (100,2))\n",
    "print(array1[0], array1[1], array1[2], array1[3], array1[4])"
   ]
  },
  {
   "cell_type": "markdown",
   "metadata": {},
   "source": [
    "2. (3 pts) In a single operation (do NOT do this in two separate steps), multiply all x values by 2 and divide all y values by 10. Make sure that the variable **points** reflects the changed values. Print the first five points to verify."
   ]
  },
  {
   "cell_type": "code",
   "execution_count": 18,
   "metadata": {},
   "outputs": [
    {
     "data": {
      "text/plain": [
       "(array([11.97064957, 19.07419836, 15.41439789, 15.67835766, 15.50055567,\n",
       "        10.34935627, 11.62272873, 17.1948557 , 10.70185164, 19.2580827 ,\n",
       "        19.56163112, 17.47883448, 10.50365373, 11.2842923 , 17.24603538,\n",
       "        11.69490397, 11.62840831, 11.83744835, 10.37816093, 14.03658654,\n",
       "        18.88581645, 17.86380467, 17.47321488, 18.19383036, 15.54599293,\n",
       "        11.62373528, 11.8161516 , 19.50872598, 19.51698132, 19.8326374 ,\n",
       "        13.69258803, 18.8498093 , 19.1786475 , 17.55669167, 15.54350629,\n",
       "        12.98378759, 10.04825511, 14.32810537, 15.33836812, 14.94511922,\n",
       "        13.82972134, 16.6311236 , 18.82235223, 13.72400495, 19.36528992,\n",
       "        15.05440018, 11.82398318, 12.23880929, 19.09739588, 12.36831542,\n",
       "        14.40219163, 16.24468718, 19.79370029, 17.8920614 , 12.76388933,\n",
       "        13.94232662, 15.26484806, 10.98607722, 17.38068983, 19.87963405,\n",
       "        12.69078918, 18.03908462, 14.74976991, 11.75130693, 18.95292958,\n",
       "        16.61637177, 12.43427259, 18.79111379, 14.50168904, 17.30578019,\n",
       "        16.84637169, 15.57127931, 12.98390904, 11.26068698, 11.21503049,\n",
       "        18.73199605, 19.16401085, 15.72455207, 14.96676481, 11.86689372,\n",
       "        17.84214043, 19.13981803, 15.88548318, 10.30084117, 18.42665939,\n",
       "        16.51121201, 13.70437439, 11.45078741, 16.69228276, 14.27489065,\n",
       "        15.50187153, 17.94833002, 10.05182769, 10.749536  , 12.80911143,\n",
       "        16.3365008 , 10.58668853, 11.528127  , 11.81281992, 14.57042598]),\n",
       " array([0.78109298, 0.58243484, 0.99120842, 0.63758569, 0.83454992,\n",
       "        0.54837736, 0.66616438, 0.79840403, 0.85889246, 0.97646352,\n",
       "        0.5628315 , 0.93342377, 0.89346734, 0.6169599 , 0.87144275,\n",
       "        0.8734614 , 0.94793415, 0.84185254, 0.98044881, 0.55188702,\n",
       "        0.96001921, 0.63422698, 0.82025233, 0.66870444, 0.96445064,\n",
       "        0.91236254, 0.98850679, 0.91097369, 0.59410324, 0.75567245,\n",
       "        0.53734879, 0.6668636 , 0.87483223, 0.97390751, 0.90852779,\n",
       "        0.72542328, 0.6802779 , 0.92674656, 0.72521728, 0.71383485,\n",
       "        0.65426978, 0.6337022 , 0.80597797, 0.62112744, 0.77099456,\n",
       "        0.54163303, 0.88326986, 0.50705305, 0.5020141 , 0.74152645,\n",
       "        0.69803771, 0.89510653, 0.71269233, 0.71121693, 0.70607148,\n",
       "        0.95073984, 0.5523326 , 0.6592248 , 0.83203096, 0.53171949,\n",
       "        0.65290901, 0.61108249, 0.9309061 , 0.55364617, 0.81340911,\n",
       "        0.61840885, 0.72276909, 0.66885168, 0.77761115, 0.57275315,\n",
       "        0.75135112, 0.87952169, 0.75442412, 0.86619658, 0.6445012 ,\n",
       "        0.50787387, 0.67639759, 0.81487935, 0.85533767, 0.98415021,\n",
       "        0.73785772, 0.72679726, 0.65097186, 0.72767853, 0.56758233,\n",
       "        0.87134644, 0.94145132, 0.53620828, 0.78441287, 0.89076401,\n",
       "        0.93862617, 0.97984728, 0.85837674, 0.59917431, 0.69954757,\n",
       "        0.88689184, 0.61171442, 0.95430551, 0.69940216, 0.99951224]))"
      ]
     },
     "execution_count": 18,
     "metadata": {},
     "output_type": "execute_result"
    }
   ],
   "source": [
    "array1 = array1[:,0] * 2, array1[:,1] / 10"
   ]
  },
  {
   "cell_type": "markdown",
   "metadata": {},
   "source": [
    "3. (3 pts) Use numpy.linspace to generate 101 equally spaced $x$ values between and including -10 and 10. For each $x$ value, evaluate $y(x) = x^2 + sin(x)$. Store your results in the variables **x** and **y**."
   ]
  },
  {
   "cell_type": "code",
   "execution_count": null,
   "metadata": {},
   "outputs": [],
   "source": []
  },
  {
   "cell_type": "code",
   "execution_count": null,
   "metadata": {},
   "outputs": [],
   "source": [
    "# This cell will plot y vs x.\n",
    "# You don't have to do anything here,\n",
    "# it's just so you can visualize your result.\n",
    "import matplotlib.pyplot as plt\n",
    "plt.plot(x, y)\n",
    "plt.xlabel(\"x\")\n",
    "plt.ylabel(\"y\");"
   ]
  },
  {
   "cell_type": "markdown",
   "metadata": {},
   "source": [
    "4. (3 pts) Put the **x** and **y** arrays from #3 above into a pandas dataframe where the 1st column is the x values and the 2nd column is the y values. Set the column titles to \"x\" and \"y\". Use the *head* and *tail* functions to display the first few and last few points."
   ]
  },
  {
   "cell_type": "code",
   "execution_count": null,
   "metadata": {},
   "outputs": [],
   "source": []
  },
  {
   "cell_type": "markdown",
   "metadata": {},
   "source": [
    "5. (3 pts) Sort the points in the dataframe from #4 above by increasing y value. Make sure your original dataframe variable reflects the sorted points. Verify by displaying the first three, middle three and last three points."
   ]
  },
  {
   "cell_type": "code",
   "execution_count": null,
   "metadata": {},
   "outputs": [],
   "source": []
  }
 ],
 "metadata": {
  "kernelspec": {
   "display_name": "Python 3",
   "language": "python",
   "name": "python3"
  },
  "language_info": {
   "codemirror_mode": {
    "name": "ipython",
    "version": 3
   },
   "file_extension": ".py",
   "mimetype": "text/x-python",
   "name": "python",
   "nbconvert_exporter": "python",
   "pygments_lexer": "ipython3",
   "version": "3.8.5"
  }
 },
 "nbformat": 4,
 "nbformat_minor": 4
}
